{
 "cells": [
  {
   "cell_type": "code",
   "execution_count": 12,
   "id": "4c73dd67-6804-4f9f-afda-7dad69d70735",
   "metadata": {},
   "outputs": [
    {
     "name": "stdin",
     "output_type": "stream",
     "text": [
      "What do you want to choose? \n",
      "0 for Rock, 1 for Paper and 2 for scissors 2\n"
     ]
    },
    {
     "name": "stdout",
     "output_type": "stream",
     "text": [
      "computer's choice =  1\n",
      "You Won\n"
     ]
    }
   ],
   "source": [
    "import random\n",
    "user_choice = int(input(\"What do you want to choose? \\n0 for Rock, 1 for Paper and 2 for scissors\"))\n",
    "\n",
    "computer_choice = random.randint(a= 0, b= 2)\n",
    "print(\"computer's choice = \",computer_choice)\n",
    "\n",
    "if user_choice >=3 or user_choice<0:\n",
    "    print(\"Invalid Number\")\n",
    "elif user_choice== 0 and computer_choice== 2:\n",
    "    print(\"You Won\")\n",
    "elif user_choice== 0 and computer_choice== 1:\n",
    "    print(\"You Lose\")\n",
    "elif user_choice== 0 and computer_choice== 0:\n",
    "    print(\"It's a Tie\")\n",
    "\n",
    "elif user_choice== 1 and computer_choice== 1:\n",
    "    print(\"It's a Tie\")\n",
    "elif user_choice== 1 and computer_choice== 0:\n",
    "    print(\"You Won\")\n",
    "elif user_choice== 1 and computer_choice== 2:\n",
    "    print(\"You Lose\")\n",
    "\n",
    "elif user_choice== 2 and computer_choice== 0:\n",
    "    print(\"You Lose\")\n",
    "elif user_choice== 2 and computer_choice== 1:\n",
    "    print(\"You Won\")\n",
    "elif user_choice== 2 and computer_choice== 2:\n",
    "    print(\"It's a Tie\")"
   ]
  },
  {
   "cell_type": "code",
   "execution_count": null,
   "id": "c9f0399e-d90a-4518-b558-4179e1caffcb",
   "metadata": {},
   "outputs": [],
   "source": []
  }
 ],
 "metadata": {
  "kernelspec": {
   "display_name": "Python 3 (ipykernel)",
   "language": "python",
   "name": "python3"
  },
  "language_info": {
   "codemirror_mode": {
    "name": "ipython",
    "version": 3
   },
   "file_extension": ".py",
   "mimetype": "text/x-python",
   "name": "python",
   "nbconvert_exporter": "python",
   "pygments_lexer": "ipython3",
   "version": "3.13.0"
  }
 },
 "nbformat": 4,
 "nbformat_minor": 5
}
