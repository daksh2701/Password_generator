{
  "nbformat": 4,
  "nbformat_minor": 0,
  "metadata": {
    "colab": {
      "provenance": [],
      "authorship_tag": "ABX9TyMcyQsMOrzeQr1JbYVMUv/k",
      "include_colab_link": true
    },
    "kernelspec": {
      "name": "python3",
      "display_name": "Python 3"
    },
    "language_info": {
      "name": "python"
    }
  },
  "cells": [
    {
      "cell_type": "markdown",
      "metadata": {
        "id": "view-in-github",
        "colab_type": "text"
      },
      "source": [
        "<a href=\"https://colab.research.google.com/github/daksh2701/my_python_projects/blob/main/password_generator.ipynb\" target=\"_parent\"><img src=\"https://colab.research.google.com/assets/colab-badge.svg\" alt=\"Open In Colab\"/></a>"
      ]
    },
    {
      "cell_type": "code",
      "execution_count": 1,
      "metadata": {
        "colab": {
          "base_uri": "https://localhost:8080/"
        },
        "id": "LE7Qp1XfEK8e",
        "outputId": "70b0daf0-65fe-4ac1-e0dc-2381a82ac305"
      },
      "outputs": [
        {
          "output_type": "stream",
          "name": "stdout",
          "text": [
            "Welcome to the Python Password Generator\n",
            "How many letters would you like in your password?4\n",
            "How many symbols would you like?7\n",
            "How many numbers would you like?2\n",
            "701h33Va!d6*1\n"
          ]
        }
      ],
      "source": [
        "import random\n",
        "print(\"Welcome to the Python Password Generator\")\n",
        "x=int(input(\"How many letters would you like in your password?\"))\n",
        "x1=int(input(\"How many symbols would you like?\"))\n",
        "x2=int(input(\"How many numbers would you like?\"))\n",
        "\n",
        "letters=['I','b','g','l','Y','J','m','v','U','Z','N','D','j','r','P','d','S','X','e','n','F','W','w','o','Q','u','B','y','K','R','q','k','s','G','T','x','f','a','c','C','t','O','M','p','A','H','V','z','h','i','E','L']\n",
        "\n",
        "numbers= ['1','2','3','4','5','6','7','8','9','0']\n",
        "\n",
        "symbols=['!','@','#','$','%','^','&','*']\n",
        "\n",
        "password_list=[]\n",
        "password =\"\"\n",
        "for char in range(0,x):\n",
        "    password_list.append(random.choice(letters))\n",
        "for char in range(0,x1):\n",
        "    password_list.append(random.choice(numbers))\n",
        "for char in range(0,x2):\n",
        "    password_list.append(random.choice(symbols))\n",
        "# print(password_list)\n",
        "random.shuffle(password_list)\n",
        "for char in password_list:\n",
        "    password+=char\n",
        "print(password)\n",
        "\n",
        "\n"
      ]
    }
  ]
}